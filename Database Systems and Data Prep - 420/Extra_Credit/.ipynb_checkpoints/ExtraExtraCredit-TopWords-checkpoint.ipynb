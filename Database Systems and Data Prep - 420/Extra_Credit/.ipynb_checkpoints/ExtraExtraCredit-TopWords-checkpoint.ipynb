{
 "cells": [
  {
   "cell_type": "markdown",
   "metadata": {
    "button": false,
    "deletable": true,
    "new_sheet": false,
    "run_control": {
     "read_only": false
    }
   },
   "source": [
    "(CC) Creative Commons BY-SA Lynd Bacon & Associates, Ltd. DBA Loma Buena Associates"
   ]
  },
  {
   "cell_type": "markdown",
   "metadata": {
    "button": false,
    "deletable": true,
    "new_sheet": false,
    "run_control": {
     "read_only": false
    }
   },
   "source": [
    "## What You Need To Do"
   ]
  },
  {
   "cell_type": "markdown",
   "metadata": {
    "button": false,
    "deletable": true,
    "new_sheet": false,
    "run_control": {
     "read_only": false
    }
   },
   "source": [
    "In the file babble-words.txt you find some text.  Read this text into Python, and then do the following.\n",
    "\n",
    "1. Remove all punctuation and non-printing characters from the text.\n",
    "\n",
    "2. Set all words to lower case."
   ]
  },
  {
   "cell_type": "code",
   "execution_count": null,
   "metadata": {
    "button": false,
    "collapsed": true,
    "deletable": true,
    "new_sheet": false,
    "run_control": {
     "read_only": false
    }
   },
   "outputs": [],
   "source": [
    "import string\n",
    "import re\n",
    "\n",
    "# init a list, open the text file and read line-by-line\n",
    "word_list = []\n",
    "with open('babble-words.txt') as input_file:\n",
    "    for line in input_file:\n",
    "        # convert to all lower case\n",
    "        line = line.lower()\n",
    "        # leverage regex's knowledge of what punctuation is\n",
    "        # to get rid of those pesky non-word characters\n",
    "        new_line =  re.sub('[%s]' % string.punctuation,'', line)\n",
    "        # and get rid of the annoying new line characters\n",
    "        new_line =  re.sub('\\n','', new_line)\n",
    "        # split into words breaking by at the spaces\n",
    "        words = new_line.split(' ')\n",
    "        # append each word to the new list\n",
    "        word_list.append(words)\n"
   ]
  },
  {
   "cell_type": "markdown",
   "metadata": {
    "button": false,
    "deletable": true,
    "new_sheet": false,
    "run_control": {
     "read_only": false
    }
   },
   "source": [
    "3. Count up how many times each word occurs."
   ]
  },
  {
   "cell_type": "code",
   "execution_count": null,
   "metadata": {
    "button": false,
    "collapsed": true,
    "deletable": true,
    "new_sheet": false,
    "run_control": {
     "read_only": false
    }
   },
   "outputs": [],
   "source": [
    "#flatten the list, since word_list is a list of lists\n",
    "flat_list=[]\n",
    "for wrd in word_list:\n",
    "    for w in wrd:\n",
    "        flat_list.append(w)\n",
    "\n",
    "# use the set function to return the unique list of words\n",
    "unique_words = set(flat_list)\n",
    "#init a dict to hold results\n",
    "count_dict = {}\n",
    "# loop thru the clean text and count the occurances, saving results to dict\n",
    "for word in unique_words:\n",
    "    number = flat_list.count(word)\n",
    "    count_dict.update({word: flat_list.count(word)})\n"
   ]
  },
  {
   "cell_type": "markdown",
   "metadata": {
    "button": false,
    "deletable": true,
    "new_sheet": false,
    "run_control": {
     "read_only": false
    }
   },
   "source": [
    "4. Output the ten (10) most frequently occurring words, indicating for each word how many times it occurred."
   ]
  },
  {
   "cell_type": "code",
   "execution_count": null,
   "metadata": {
    "button": false,
    "collapsed": true,
    "deletable": true,
    "new_sheet": false,
    "run_control": {
     "read_only": false
    }
   },
   "outputs": [],
   "source": [
    "#sort the dictionary\n",
    "sorted_dict = sorted(count_dict.items(), key=lambda kv: kv[1], reverse=True)\n",
    "# iterate thru the first 10 items in the sorted dictionary to get top 10\n",
    "for i in range(0,10):\n",
    "    print sorted_dict[i]"
   ]
  },
  {
   "cell_type": "markdown",
   "metadata": {
    "button": false,
    "deletable": true,
    "new_sheet": false,
    "run_control": {
     "read_only": false
    }
   },
   "source": [
    "## Your Deliverables"
   ]
  },
  {
   "cell_type": "markdown",
   "metadata": {
    "button": false,
    "deletable": true,
    "new_sheet": false,
    "run_control": {
     "read_only": false
    }
   },
   "source": [
    "In two (2) pages or less, provide:\n",
    "\n",
    "* The python code you used to do the above, including an explanation of what each line of code does.\n",
    "* Your output of the 10 most frequently occurring words with the number of times they occurred."
   ]
  },
  {
   "cell_type": "markdown",
   "metadata": {
    "button": false,
    "deletable": true,
    "new_sheet": false,
    "run_control": {
     "read_only": false
    }
   },
   "source": [
    "This extra credit exercise is worth 10 points towards the course grade __if done correctly__.  If not done completely correctly, it is worth zero points."
   ]
  }
 ],
 "metadata": {
  "kernelspec": {
   "display_name": "Local Python",
   "language": "python",
   "name": "local"
  },
  "language_info": {
   "codemirror_mode": {
    "name": "ipython",
    "version": 2
   },
   "file_extension": ".py",
   "mimetype": "text/x-python",
   "name": "python",
   "nbconvert_exporter": "python",
   "pygments_lexer": "ipython2",
   "version": "2.7.13"
  }
 },
 "nbformat": 4,
 "nbformat_minor": 1
}
