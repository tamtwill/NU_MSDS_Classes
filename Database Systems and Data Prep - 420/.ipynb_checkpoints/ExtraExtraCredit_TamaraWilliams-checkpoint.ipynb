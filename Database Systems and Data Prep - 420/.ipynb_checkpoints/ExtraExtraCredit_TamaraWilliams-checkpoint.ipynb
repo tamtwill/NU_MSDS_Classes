{
 "cells": [
  {
   "cell_type": "markdown",
   "metadata": {
    "button": false,
    "deletable": true,
    "new_sheet": false,
    "run_control": {
     "read_only": false
    }
   },
   "source": [
    "1. Remove all punctuation and non-printing characters from the text.\n",
    "2. Set all words to lower case."
   ]
  },
  {
   "cell_type": "code",
   "execution_count": 1,
   "metadata": {
    "button": false,
    "collapsed": true,
    "deletable": true,
    "new_sheet": false,
    "run_control": {
     "read_only": false
    }
   },
   "outputs": [],
   "source": [
    "import string\n",
    "import re\n",
    "\n",
    "# init a list, open the text file and read line-by-line\n",
    "word_list = []\n",
    "with open('babble-words.txt') as input_file:\n",
    "    for line in input_file:\n",
    "        # convert to all lower case\n",
    "        line = line.lower()\n",
    "        # leverage regex's knowledge of what punctuation is\n",
    "        # to get rid of those pesky non-word characters\n",
    "        new_line =  re.sub('[%s]' % string.punctuation,'', line)\n",
    "        # and get rid of the annoying new line characters\n",
    "        new_line =  re.sub('\\n','', new_line)\n",
    "        # split into words breaking by at the spaces\n",
    "        words = new_line.split(' ')\n",
    "        # append each word to the new list\n",
    "        word_list.append(words)"
   ]
  },
  {
   "cell_type": "markdown",
   "metadata": {
    "button": false,
    "deletable": true,
    "new_sheet": false,
    "run_control": {
     "read_only": false
    }
   },
   "source": [
    "3. Count up how many times each word occurs."
   ]
  },
  {
   "cell_type": "code",
   "execution_count": 2,
   "metadata": {
    "button": false,
    "collapsed": true,
    "deletable": true,
    "new_sheet": false,
    "run_control": {
     "read_only": false
    }
   },
   "outputs": [],
   "source": [
    "#flatten the list, since word_list is a list of lists\n",
    "flat_list=[]\n",
    "for wrd in word_list:\n",
    "    for w in wrd:\n",
    "        flat_list.append(w)\n",
    "\n",
    "# use the set function to return the unique list of words\n",
    "unique_words = set(flat_list)\n",
    "#init a dict to hold results\n",
    "count_dict = {}\n",
    "# loop thru the clean text and count the occurances, saving results to dict\n",
    "for word in unique_words:\n",
    "    number = flat_list.count(word)\n",
    "    count_dict.update({word: flat_list.count(word)})"
   ]
  },
  {
   "cell_type": "markdown",
   "metadata": {
    "button": false,
    "deletable": true,
    "new_sheet": false,
    "run_control": {
     "read_only": false
    }
   },
   "source": [
    "4. Output the ten (10) most frequently occurring words, indicating for each word how many times it occurred."
   ]
  },
  {
   "cell_type": "code",
   "execution_count": 3,
   "metadata": {
    "button": false,
    "collapsed": false,
    "deletable": true,
    "new_sheet": false,
    "run_control": {
     "read_only": false
    }
   },
   "outputs": [
    {
     "name": "stdout",
     "output_type": "stream",
     "text": [
      "('sed', 17)\n",
      "('ut', 15)\n",
      "('in', 11)\n",
      "('nulla', 10)\n",
      "('nunc', 8)\n",
      "('sit', 8)\n",
      "('nec', 8)\n",
      "('turpis', 8)\n",
      "('amet', 8)\n",
      "('ac', 7)\n"
     ]
    }
   ],
   "source": [
    "#sort the dictionary\n",
    "sorted_dict = sorted(count_dict.items(), key=lambda kv: kv[1], reverse=True)\n",
    "# iterate thru the first 10 items in the sorted dictionary to get top 10\n",
    "for i in range(0,10):\n",
    "    print sorted_dict[i]"
   ]
  }
 ],
 "metadata": {
  "kernelspec": {
   "display_name": "Python 2",
   "language": "python",
   "name": "python2"
  },
  "language_info": {
   "codemirror_mode": {
    "name": "ipython",
    "version": 2
   },
   "file_extension": ".py",
   "mimetype": "text/x-python",
   "name": "python",
   "nbconvert_exporter": "python",
   "pygments_lexer": "ipython2",
   "version": "2.7.13"
  }
 },
 "nbformat": 4,
 "nbformat_minor": 1
}
