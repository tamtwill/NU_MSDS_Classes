{
 "cells": [
  {
   "cell_type": "markdown",
   "metadata": {},
   "source": [
    "### Some example code to try"
   ]
  },
  {
   "cell_type": "markdown",
   "metadata": {},
   "source": [
    "A GrEx4 objective is to identify all Key Lay email addresses in the To or From header fields of the messages in the Enron index.  Here's some code you can try if you are following the steps described in the _GrEx4 Launcher ..._ notebook.  It's not guarranteed to work \"as is\" (in fact, it probably won't; see __try and except...__ below), and you may need to adapt it to however you are attempting to do GrEx4. It's not capable 'handling' the kinds of _exceptions_ (errors) that might arise as you try to process the message headers. Also, the code that follows is in \"raw\" mode.\n",
    "\n",
    "IMPORTANT NOTE: If you use the following code, or a version of it, in what you turn in for GrEx4, be sure to document what it does, and how it works.  _No credit will be given if you just include it with out documenting it._"
   ]
  },
  {
   "cell_type": "raw",
   "metadata": {},
   "source": [
    "# This will hold dicts of pairs of msgID's and email addresses\n",
    "\n",
    "dictList=[]"
   ]
  },
  {
   "cell_type": "raw",
   "metadata": {},
   "source": [
    "# msgList is a list of email messages you've retrieved from ES\n",
    "# chances are you got what's in it be scroll searching the enron index\n",
    "\n",
    "for msg in msgList:\n",
    "    headers=msg['_source']['headers']\n",
    "    msgID=headers['Message-ID']\n",
    "    \n",
    "    msgFrom=headers['From']\n",
    "    #\n",
    "    dictList.append({'msgID':msgID,'address':msgFrom})\n",
    "    #\n",
    "    msgTo=headers['To'].split()\n",
    "    #\n",
    "    for mTo in msgTo:\n",
    "        dictList.append({'msgID':msgID,'address':mTo.strip()})\n",
    "\n",
    "# end of msg for loop"
   ]
  },
  {
   "cell_type": "markdown",
   "metadata": {},
   "source": [
    "Can you turn `dictList` into a pandas DataFrame?"
   ]
  },
  {
   "cell_type": "markdown",
   "metadata": {},
   "source": [
    "### try and except for dealing with errors that can crop up"
   ]
  },
  {
   "cell_type": "markdown",
   "metadata": {},
   "source": [
    "Python has a rather clever means of helping you get around errors that might crop up. You can use a _try_ block of code to see if the code in it runs without errors, and if it doesn't, you can skip the code in the block and go to an _except_ block of code to run instead.  Here's a simple 'conceptual' example:"
   ]
  },
  {
   "cell_type": "raw",
   "metadata": {},
   "source": [
    "try:\n",
    "    do thing\n",
    "except:\n",
    "    thing didn't work, so go on from here"
   ]
  },
  {
   "cell_type": "markdown",
   "metadata": {},
   "source": [
    "You can find a lot of information about how to use try and except blocks online and in your preferred Python text(s).  Here's a 'gentle' introduction:\n",
    "\n",
    "http://www.pythonforbeginners.com/error-handling/python-try-and-except/\n",
    "\n",
    "And a little more detail with examples:\n",
    "\n",
    "https://www.tutorialspoint.com/python/python_exceptions.htm\n",
    "\n",
    "https://wiki.python.org/moin/HandlingExceptions\n",
    "\n",
    "You can easily find many other explanations and examples."
   ]
  },
  {
   "cell_type": "markdown",
   "metadata": {},
   "source": [
    "When you use code like the example code above to extract email addresses from the To and From message fields, you'll probably get some errors before you get the results you need. The data in the enron index isn't pristine, by any means.  'Rumor has it' that you might encounter messages that don't have any headers. When a message is missing its headers, `headers=msg['_source']['headers']` will give you an error (a key error).  It's possible that some messages may be missing particular headers, like \"To.\"\n",
    "\n",
    "When you get a look at the email messages you'll notice that some are malformed or have spurious characters in them.  You may find some special character strings, like `\\r` (a return) or `\\n` (newline, or linefeed).  You may also see some other things, like extra commas 'hanging around' here and there. You might clean these things up by using a _regular expression_ ('regex') on the email addresses.  \n",
    "\n",
    "As you probably know by now, Python has a package called `re` that you can use to compile and apply regexs to strings.  Compiling can be useful when you need to apply the same regex pattern many times.  "
   ]
  },
  {
   "cell_type": "markdown",
   "metadata": {},
   "source": [
    "The next steps are yours to make."
   ]
  }
 ],
 "metadata": {
  "kernelspec": {
   "display_name": "Python 2",
   "language": "python",
   "name": "python2"
  },
  "language_info": {
   "codemirror_mode": {
    "name": "ipython",
    "version": 2
   },
   "file_extension": ".py",
   "mimetype": "text/x-python",
   "name": "python",
   "nbconvert_exporter": "python",
   "pygments_lexer": "ipython2",
   "version": "2.7.13"
  }
 },
 "nbformat": 4,
 "nbformat_minor": 2
}
