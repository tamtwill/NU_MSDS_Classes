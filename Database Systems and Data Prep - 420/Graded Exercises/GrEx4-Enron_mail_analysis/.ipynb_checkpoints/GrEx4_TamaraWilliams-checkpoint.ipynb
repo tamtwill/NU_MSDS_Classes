{
 "cells": [
  {
   "cell_type": "markdown",
   "metadata": {
    "collapsed": true
   },
   "source": [
    "1) Extract the messages from the enron index that include a Keny Lay email address in them in a message header. How many email messages are these?"
   ]
  },
  {
   "cell_type": "code",
   "execution_count": 1,
   "metadata": {},
   "outputs": [
    {
     "name": "stdout",
     "output_type": "stream",
     "text": [
      "Total number of mails to/from Ken Lay = 7198 \n",
      "\n"
     ]
    }
   ],
   "source": [
    "import pandas as pd\n",
    "import json\n",
    "import sys\n",
    "import re\n",
    "import pprint\n",
    "pp = pprint.PrettyPrinter(indent=4)\n",
    "\n",
    "# Start with a JSON file dowloaded from SSCC ES server, via the sample code\n",
    "# provided by instructor.  That code not shown here.  Open the file and load \n",
    "# contents to a dict object\n",
    "mail_list = []\n",
    "with open('enron_data.json') as input_file:\n",
    "    j_dict =json.load(input_file)\n",
    "\n",
    "# init var to track key errors, not all mail has \"to\" and a few are missing headers\n",
    "key_error_count = 0\n",
    "\n",
    "# iterate over the messages, extracting the relevant parts and saving those to \n",
    "# a new list for further processing\n",
    "for msg in j_dict:\n",
    "#    pprint.pprint(msg)\n",
    "    try:\n",
    "        msg_ID = msg['headers']['Message-ID']  \n",
    "        msg_date = msg['headers']['Date']\n",
    "        msg_from = msg['headers']['From']\n",
    "        msg_to_tmp = msg['headers']['To'].split()\n",
    "        for msg_to in msg_to_tmp:\n",
    "            mail_list.append({'msg_ID':msg_ID,'address_from':msg_from,\n",
    "                              'address_to':msg_to.strip(','),'date':msg_date})\n",
    "    except KeyError as e:\n",
    "        key_error_count +=1\n",
    "    except:\n",
    "        print \"Unexpected error:\", sys.exc_info()[0]    \n",
    "\n",
    "df_headers = pd.DataFrame(mail_list)\n",
    "\n",
    "# Convert the NaN to blanks so RegEx is happy \n",
    "df_headers = df_headers.fillna('')\n",
    "\n",
    "# create 2 empty dataframes, loop over the extracted data, and split mails \n",
    "# into the 'to' and 'from' Ken Lay buckets.  RegEx looks for all permutations\n",
    "# of starts with 'k' and ends with 'lay@'\n",
    "j = 0\n",
    "k = 0\n",
    "df_from_kl = pd.DataFrame(columns=['msg_ID', 'send_alias', 'to_person','date'])\n",
    "df_to_kl = pd.DataFrame(columns=['msg_ID', 'to_alias', 'from_person'])\n",
    "for i in range(0, len(df_headers)):\n",
    "    if re.match(r\"^k+\\S{0,}lay@\", df_headers['address_from'][i]):\n",
    "        df_from_kl.loc[j] = [df_headers['msg_ID'][i], df_headers['address_from'][i], \n",
    "                             df_headers['address_to'][i],df_headers['date'][i]]\n",
    "        j+=1\n",
    "    if re.match(r\"^k+\\S{0,}lay@\", df_headers['address_to'][i]):  \n",
    "        df_to_kl.loc[k] = [df_headers['msg_ID'][i], df_headers['address_to'][i], \n",
    "                           df_headers['address_from'][i]]\n",
    "        k+=1\n",
    "\n",
    "# clean the data before counting\n",
    "df_from_kl.drop_duplicates() \n",
    "df_to_kl.drop_duplicates()     \n",
    "print \"Total number of mails to/from Ken Lay =\", len(df_to_kl)+len(df_from_kl),'\\n'"
   ]
  },
  {
   "cell_type": "markdown",
   "metadata": {
    "collapsed": true
   },
   "source": [
    "2) How many different Ken Lay email addresses are there in these messages? Provide a count of how many times each one occurs in the messages."
   ]
  },
  {
   "cell_type": "code",
   "execution_count": 9,
   "metadata": {},
   "outputs": [
    {
     "name": "stdout",
     "output_type": "stream",
     "text": [
      "Aliases used to send mail \n",
      "send_alias\n",
      "ken.lay@enron.com           1\n",
      "kenneth.lay@enron.com    4081\n",
      "dtype: int64 \n",
      "\n",
      "Aliases used to get mail \n",
      "to_alias\n",
      "k.l.lay@enron.com             1\n",
      "k.lay@enron.com               1\n",
      "k_lay@enron.com               2\n",
      "ken.lay@enron.com             2\n",
      "ken_lay@enron.com             2\n",
      "ken_lay@enron.net             1\n",
      "kenlay@enron.com              1\n",
      "kenneth.l.lay@enron.com       2\n",
      "kenneth.lay@enron.com      2110\n",
      "kenneth_lay@enron.com        23\n",
      "kenneth_lay@enron.net         3\n",
      "kennethlay@enron.com          1\n",
      "klay@enron.com              967\n",
      "dtype: int64 \n",
      "\n"
     ]
    }
   ],
   "source": [
    "sent_alias_count = df_from_kl.groupby('send_alias').size()\n",
    "print \"Aliases used to send mail \\n\", sent_alias_count,'\\n'\n",
    "\n",
    "to_alias_count = df_to_kl.groupby('to_alias').size()\n",
    "print \"Aliases used to get mail \\n\", to_alias_count,'\\n'"
   ]
  },
  {
   "cell_type": "markdown",
   "metadata": {
    "collapsed": true
   },
   "source": [
    "3) Determine how many of the messages are \"To:\" Ken Lay, and are \"From:\" Ken Lay. Provde a count for each of these."
   ]
  },
  {
   "cell_type": "code",
   "execution_count": 3,
   "metadata": {},
   "outputs": [
    {
     "name": "stdout",
     "output_type": "stream",
     "text": [
      "Number of mails to Ken Lay =  3116 \n",
      "\n",
      "Number of mails from Ken Lay =  4082 \n",
      "\n"
     ]
    }
   ],
   "source": [
    "to_kl_count = len(df_to_kl)\n",
    "from_kl_count= len(df_from_kl)\n",
    "print \"Number of mails to Ken Lay = \", to_kl_count, '\\n'\n",
    "print \"Number of mails from Ken Lay = \", from_kl_count,'\\n'"
   ]
  },
  {
   "cell_type": "markdown",
   "metadata": {
    "collapsed": true
   },
   "source": [
    "4) Who did Lay send the most emails to? How many did he send to this recipient? Who did he receive the most from? How many did he receive from this sender?"
   ]
  },
  {
   "cell_type": "code",
   "execution_count": 5,
   "metadata": {},
   "outputs": [
    {
     "name": "stdout",
     "output_type": "stream",
     "text": [
      "most frequent recipient of mail FROM Ken Lay to_person\n",
      "l..wells@enron.com    28\n",
      "dtype: int64 \n",
      "\n",
      "most frequent sender of mail TO Ken Lay from_person\n",
      "leonardo.pacheco@enron.com    187\n",
      "dtype: int64 \n",
      "\n"
     ]
    }
   ],
   "source": [
    "#Group and sort to get the counts by person for sending and recieving\n",
    "max_mails = df_from_kl.groupby('to_person').size()\n",
    "max_mails = max_mails.sort_values(ascending=False)\n",
    "print \"most frequent recipient of mail FROM Ken Lay\", max_mails.iloc[0:1], '\\n'\n",
    "\n",
    "max_mails = df_to_kl.groupby('from_person').size()\n",
    "max_mails = max_mails.sort_values(ascending=False)\n",
    "print \"most frequent sender of mail TO Ken Lay\", max_mails.iloc[0:1],'\\n'"
   ]
  },
  {
   "cell_type": "markdown",
   "metadata": {
    "collapsed": true
   },
   "source": [
    "5) Did the volume of emails sent by Lay increase or decrease after Enron filed for bankruptcy? How many did he send before the filing? How many, after?"
   ]
  },
  {
   "cell_type": "code",
   "execution_count": 10,
   "metadata": {},
   "outputs": [
    {
     "name": "stdout",
     "output_type": "stream",
     "text": [
      "KLay sent 4080 mails before the filing, and 2 mails after \n",
      "\n"
     ]
    }
   ],
   "source": [
    "# Extract the date column, and then delete the timezone adjustment which isn't\n",
    "# recognized by python 2.7, parse and compare\n",
    "df_date = pd.DataFrame(df_from_kl['date'])\n",
    "df_date.to_csv('test_date.csv', header=True, sep=',') \n",
    "from dateutil.parser import parse\n",
    "from datetime import datetime\n",
    "# using 12/2/2001 at 12:00:00 as the filing date\n",
    "before = 0 \n",
    "after = 0\n",
    "for i in df_date['date']:\n",
    "    try:\n",
    "        tmp = parse(i[0:25])\n",
    "        if tmp <= datetime(2001,12,1,11,15,59):\n",
    "            before +=1\n",
    "        else:\n",
    "            after +=1\n",
    "    except:\n",
    "        print \"Unexpected error:\", sys.exc_info()[0]   \n",
    "\n",
    "print \"KLay sent %i mails before the filing, and %i mails after \\n\"% (before,after)"
   ]
  },
  {
   "cell_type": "markdown",
   "metadata": {
    "collapsed": true
   },
   "source": [
    "6) How many of the email messages in 4., above, mention Arthur Andersen, Enron's accounting firm?"
   ]
  },
  {
   "cell_type": "code",
   "execution_count": 7,
   "metadata": {},
   "outputs": [
    {
     "name": "stdout",
     "output_type": "stream",
     "text": [
      "Found 5 mail(s) from or to Ken Lay mentioning Arthur Andersen\n"
     ]
    }
   ],
   "source": [
    "# get the series of all IDs from step 4, the 'to' & 'from\" Ken Lay & make list\n",
    "# then iterate and get the body of message\n",
    "id_list = (df_from_kl['msg_ID'].append(df_to_kl['msg_ID'])).tolist()\n",
    "aa_count = 0\n",
    "for msg in j_dict: \n",
    "    try:\n",
    "        tmp = str(msg['headers']['Message-ID'])\n",
    "        if tmp in id_list:\n",
    "            body = str(msg['body'])\n",
    "            if \"Arthur Andersen\" in body:\n",
    "                aa_count +=1\n",
    "    except KeyError:\n",
    "        key_error_count +=1\n",
    "print \"Found %i mail(s) from or to Ken Lay mentioning Arthur Andersen\" %aa_count"
   ]
  }
 ],
 "metadata": {
  "anaconda-cloud": {},
  "kernelspec": {
   "display_name": "Python 2",
   "language": "python",
   "name": "python2"
  },
  "language_info": {
   "codemirror_mode": {
    "name": "ipython",
    "version": 2
   },
   "file_extension": ".py",
   "mimetype": "text/x-python",
   "name": "python",
   "nbconvert_exporter": "python",
   "pygments_lexer": "ipython2",
   "version": "2.7.13"
  }
 },
 "nbformat": 4,
 "nbformat_minor": 1
}
