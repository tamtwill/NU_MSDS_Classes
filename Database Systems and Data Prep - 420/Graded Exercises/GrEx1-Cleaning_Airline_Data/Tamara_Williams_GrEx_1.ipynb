{
 "cells": [
  {
   "cell_type": "markdown",
   "metadata": {
    "deletable": true,
    "editable": true
   },
   "source": [
    "# The Task at Hand:  Getting Airline Data In Order"
   ]
  },
  {
   "cell_type": "markdown",
   "metadata": {},
   "source": [
    "#### 1. Read each data file into a Pandas DataFrame.  Add meaningful names (i.e., names that would make sense to other people, given the data) to the columns of each DataFrame.\n",
    "    \n",
    "* Provide your syntactically correct, commented code.\n",
    "* Print the first three rows of each DataFrame.  Provide your code, and the results it produced. "
   ]
  },
  {
   "cell_type": "code",
   "execution_count": 1,
   "metadata": {
    "collapsed": false,
    "deletable": true,
    "editable": true
   },
   "outputs": [
    {
     "name": "stdout",
     "output_type": "stream",
     "text": [
      "___   Airlines   ___ \n",
      "   AirlineID            Name Alias IATA ICAO CallSign        Country Active\n",
      "0          1  Private flight          -                                   Y\n",
      "1          2     135 Airways             GNL  GENERAL  United States      N\n",
      "2          3   1Time Airline         1T  RNX  NEXTIME   South Africa      Y \n",
      "\n",
      "___   Airports   ___ \n",
      "   AirportID         Name         City           Country AirportCode  ICAO  \\\n",
      "0          1       Goroka       Goroka  Papua New Guinea         GKA  AYGA   \n",
      "1          2       Madang       Madang  Papua New Guinea         MAG  AYMD   \n",
      "2          3  Mount Hagen  Mount Hagen  Papua New Guinea         HGU  AYMH   \n",
      "\n",
      "        Lat        Long   Alt  TimeZone DST              Olson_TZ  \n",
      "0 -6.081689  145.391881  5282      10.0   U  Pacific/Port_Moresby  \n",
      "1 -5.207083  145.788700    20      10.0   U  Pacific/Port_Moresby  \n",
      "2 -5.826789  144.295861  5388      10.0   U  Pacific/Port_Moresby   \n",
      "\n",
      "___   Routes   ___ \n",
      "  Airline AirlineID  Src SrcID Dest DestID Codeshare  Stops Equip\n",
      "0      2B       410  AER  2965  KZN   2990                0   CR2\n",
      "1      2B       410  ASF  2966  KZN   2990                0   CR2\n",
      "2      2B       410  ASF  2966  MRV   2962                0   CR2 \n",
      "\n",
      "___   Airport Codes   ___ \n",
      "  AirportCode                         City_Country  WorldAreaCode\n",
      "0         AAC  AL ARISH, ARAB REP. OF EGYPT                   591\n",
      "1         AAE  ANNABA, ALGERIA                                500\n",
      "2         AAF  APALACHICOLA, FLORIDA, USA                      33\n"
     ]
    }
   ],
   "source": [
    "#!/usr/bin/env python2\n",
    "# -*- coding: utf-8 -*-\n",
    "import pandas as pd\n",
    "import re\n",
    "import pickle\n",
    "\n",
    "## For files (airlines, airports, routes and airport_codes) read into a dataframe. \n",
    "## Fill missing data with empty string. Assumes data is in local path\n",
    "\n",
    "dfAirlines = pd.read_csv(\"airlines.dat\", sep = \",\", na_values = '\\N', \n",
    "                names = (\"AirlineID\",\"Name\", \"Alias\", \"IATA\", \"ICAO\", \n",
    "                         \"CallSign\",\"Country\", \"Active\"))\n",
    "dfAirlines = dfAirlines.fillna('')\n",
    "print \"___   Airlines   ___\", '\\n', dfAirlines.head(3),\"\\n\"\n",
    "\n",
    "dfAirports = pd.read_csv(\"airports.dat\", sep = \",\", na_values = '\\N', \n",
    "                names = (\"AirportID\", \"Name\", \"City\", \"Country\", \"AirportCode\", \n",
    "                         \"ICAO\", \"Lat\", \"Long\", \"Alt\", \"TimeZone\", \n",
    "                         \"DST\", \"Olson_TZ\"))\n",
    "dfAirports = dfAirports.fillna('')\n",
    "print \"___   Airports   ___\", '\\n',dfAirports.head(3),\"\\n\"\n",
    "\n",
    "dfRoutes = pd.read_csv(\"routes.dat\", sep = \",\", na_values = '\\N', \n",
    "              names = (\"Airline\", \"AirlineID\", \"Src\", \"SrcID\", \"Dest\", \"DestID\", \n",
    "                       \"Codeshare\", \"Stops\", \"Equip\"))\n",
    "dfRoutes = dfRoutes.fillna('')\n",
    "print \"___   Routes   ___\", '\\n', dfRoutes.head(3), \"\\n\"\n",
    "\n",
    "dfAirportCodes = pd.read_csv(\"airports_codes.txt\", sep = \"\\t\", na_values = '\\N')\n",
    "dfAirportCodes.columns = [\"AirportCode\", \"City_Country\", \"WorldAreaCode\"]\n",
    "dfAirportCodes.fillna('')\n",
    "print \"___   Airport Codes   ___\", '\\n', dfAirportCodes.head(3)"
   ]
  },
  {
   "cell_type": "markdown",
   "metadata": {
    "deletable": true,
    "editable": true
   },
   "source": [
    "    \n",
    "#### 2. Check each DataFrame for duplicate records.  For each, report the number of duplicates you found.\n",
    "    \n",
    "* Provide your commented, syntactically correct code and the results it produced.  "
   ]
  },
  {
   "cell_type": "code",
   "execution_count": 2,
   "metadata": {
    "collapsed": false,
    "scrolled": true
   },
   "outputs": [
    {
     "name": "stdout",
     "output_type": "stream",
     "text": [
      "Number of duplicate Airline records = 1\n",
      "Number of duplicate Airport records = 29\n",
      "Number of duplicated Route records = 0\n",
      "Number of duplicate Airport Code records = 0\n"
     ]
    }
   ],
   "source": [
    "## For each dataframe above, create a new dataframe with the duplicates\n",
    "## removed.  Specify the columns to compare on, making sure the \n",
    "## ID column is not included.  Compare the before and after dataframe\n",
    "## lengths to determine the number of dropped rows.\n",
    "\n",
    "before = len(dfAirlines)\n",
    "noDupsAL = dfAirlines.drop_duplicates([\"Name\", \"Alias\", \"IATA\", \"ICAO\",\"CallSign\",\n",
    "                                       \"Country\", \"Active\"])\n",
    "after = len(noDupsAL)\n",
    "numDups = before - after\n",
    "print \"Number of duplicate Airline records =\", numDups\n",
    "\n",
    "before = len(dfAirports)\n",
    "noDupsAP = dfAirports.drop_duplicates([\"Name\", \"City\", \"Country\",\"AirportCode\", \n",
    "                                        \"ICAO\", \"Lat\", \"Long\", \"Alt\", \"TimeZone\", \n",
    "                                        \"DST\", \"Olson_TZ\"])\n",
    "after = len(noDupsAP)\n",
    "numDups = before - after\n",
    "print \"Number of duplicate Airport records =\", numDups\n",
    "\n",
    "before = len(dfRoutes)\n",
    "noDupsRoute = dfRoutes.drop_duplicates([\"Airline\", \"AirlineID\",\"Src\", \"SrcID\", \"Dest\", \n",
    "                                        \"DestID\", \"Codeshare\", \"Stops\", \"Equip\"])\n",
    "after = len(noDupsRoute)\n",
    "numDups = before - after\n",
    "print \"Number of duplicated Route records =\", numDups\n",
    "\n",
    "before = len(dfAirportCodes)\n",
    "noDupsCodes = dfAirportCodes.drop_duplicates([\"AirportCode\", \"City_Country\", \n",
    "                                              \"WorldAreaCode\"])\n",
    "after = len(noDupsCodes)\n",
    "numDups = before - after\n",
    "print \"Number of duplicate Airport Code records =\", numDups\n"
   ]
  },
  {
   "cell_type": "markdown",
   "metadata": {
    "deletable": true,
    "editable": true
   },
   "source": [
    "    \n",
    "#### 3. Describe the data types of the columns in each of the DataFrames.\n",
    "    \n",
    "* Provide your commented, syntactically correct code and the results it produced.  "
   ]
  },
  {
   "cell_type": "code",
   "execution_count": 3,
   "metadata": {
    "collapsed": false
   },
   "outputs": [
    {
     "name": "stdout",
     "output_type": "stream",
     "text": [
      "___   Airlines dataframe   ___ \n",
      "AirlineID     int64\n",
      "Name         object\n",
      "Alias        object\n",
      "IATA         object\n",
      "ICAO         object\n",
      "CallSign     object\n",
      "Country      object\n",
      "Active       object\n",
      "dtype: object \n",
      "\n",
      "___   Airports dataframe   ___ \n",
      "AirportID        int64\n",
      "Name            object\n",
      "City            object\n",
      "Country         object\n",
      "AirportCode     object\n",
      "ICAO            object\n",
      "Lat            float64\n",
      "Long           float64\n",
      "Alt              int64\n",
      "TimeZone       float64\n",
      "DST             object\n",
      "Olson_TZ        object\n",
      "dtype: object \n",
      "\n",
      "___   Routes dataframe   ___ \n",
      "Airline      object\n",
      "AirlineID    object\n",
      "Src          object\n",
      "SrcID        object\n",
      "Dest         object\n",
      "DestID       object\n",
      "Codeshare    object\n",
      "Stops         int64\n",
      "Equip        object\n",
      "dtype: object \n",
      "\n",
      "___   Airport Codes dataframe   ___ \n",
      "AirportCode      object\n",
      "City_Country     object\n",
      "WorldAreaCode     int64\n",
      "dtype: object \n",
      "\n"
     ]
    }
   ],
   "source": [
    "## getting the data types for dataframe member via df.dtypes \n",
    "airlinesTypes = dfAirlines.dtypes\n",
    "airportsTypes = dfAirports.dtypes\n",
    "routesTypes = dfRoutes.dtypes\n",
    "codesTypes = dfAirportCodes.dtypes\n",
    "print \"___   Airlines dataframe   ___\", '\\n', airlinesTypes, \"\\n\"\n",
    "print \"___   Airports dataframe   ___\", '\\n', airportsTypes,\"\\n\"\n",
    "print \"___   Routes dataframe   ___\", '\\n', routesTypes, \"\\n\"\n",
    "print \"___   Airport Codes dataframe   ___\", '\\n', codesTypes, '\\n'"
   ]
  },
  {
   "cell_type": "markdown",
   "metadata": {
    "deletable": true,
    "editable": true
   },
   "source": [
    "        \n",
    "#### 4. Determine how many of the airlines are \"defunct.\" \n",
    "    \n",
    "* Provide your definition of what a defunct airline is.\n",
    "* Provide your commented, syntactically correct code and the results it produced.  \n",
    "    "
   ]
  },
  {
   "cell_type": "code",
   "execution_count": 4,
   "metadata": {
    "collapsed": false,
    "scrolled": true
   },
   "outputs": [
    {
     "name": "stdout",
     "output_type": "stream",
     "text": [
      "There are 539 defunct airlines \n",
      "\n"
     ]
    }
   ],
   "source": [
    "## A defunct airline is one which has no routes. Any airline not in routes.dat is \n",
    "## considered to be defunct. Check Airline IDs are correct format before counting\n",
    "\n",
    "allAirlines = dfAirlines['IATA'].unique()\n",
    "hasRoute = dfRoutes['Airline'].unique()\n",
    "noRoutes = list(set(allAirlines)- set(hasRoute))\n",
    "defunct = 0\n",
    "# use RegEx to pattern match on correct 2 AlphaNum Airline ID\n",
    "for r in noRoutes:\n",
    "    goodID = re.search('\\w\\w', r)\n",
    "    if goodID:\n",
    "        defunct += 1\n",
    "print \"There are\", defunct, \"defunct airlines \\n\""
   ]
  },
  {
   "cell_type": "markdown",
   "metadata": {
    "deletable": true,
    "editable": true
   },
   "source": [
    "#### 5. Determine how many \"routes from nowhere\" there are in the data.  These are flights that don't originate from an airport.\n",
    "    \n",
    "* Provide your commented, syntactically correct code and the results it produced.  "
   ]
  },
  {
   "cell_type": "code",
   "execution_count": 5,
   "metadata": {
    "collapsed": false
   },
   "outputs": [
    {
     "name": "stdout",
     "output_type": "stream",
     "text": [
      "There are 2253 flights without a valid starting airport \n",
      "\n"
     ]
    }
   ],
   "source": [
    "## get the list of source airports in the route dataframe, and compare to the list of \n",
    "## airpot codes from the airport_codes txt file.  Any source airport not in the code \n",
    "## list will be counted as a phantom flight.\n",
    "\n",
    "codeList = list(dfAirportCodes.AirportCode)\n",
    "srcList = list(dfRoutes.Src)\n",
    "phantomCount = 0\n",
    "for i in srcList:\n",
    "    if i not in codeList:\n",
    "#        print \"missing\", i\n",
    "        phantomCount +=1\n",
    "print \"There are\", phantomCount,\"flights without a valid starting airport\", '\\n'"
   ]
  },
  {
   "cell_type": "markdown",
   "metadata": {
    "deletable": true,
    "editable": true
   },
   "source": [
    "        \n",
    "#### 6. Save your DataFrames for future use.  You may pickle them, put them in a shelve db, on in a the tables of a SQL db.  Check to make sure that they are saved correctly.\n",
    "    \n",
    " * Provide your commented, syntactically correct code and the results it produced."
   ]
  },
  {
   "cell_type": "code",
   "execution_count": 6,
   "metadata": {
    "collapsed": false
   },
   "outputs": [
    {
     "name": "stdout",
     "output_type": "stream",
     "text": [
      "----------Pickle test - round trip each dataframe----------- \n",
      "\n",
      "___   Airlines   ___ \n",
      "   AirlineID            Name Alias IATA ICAO CallSign        Country Active\n",
      "0          1  Private flight          -                                   Y\n",
      "1          2     135 Airways             GNL  GENERAL  United States      N\n",
      "2          3   1Time Airline         1T  RNX  NEXTIME   South Africa      Y \n",
      "\n",
      "___   Airports   ___ \n",
      "   AirportID         Name         City           Country AirportCode  ICAO  \\\n",
      "0          1       Goroka       Goroka  Papua New Guinea         GKA  AYGA   \n",
      "1          2       Madang       Madang  Papua New Guinea         MAG  AYMD   \n",
      "2          3  Mount Hagen  Mount Hagen  Papua New Guinea         HGU  AYMH   \n",
      "\n",
      "        Lat        Long   Alt  TimeZone DST              Olson_TZ  \n",
      "0 -6.081689  145.391881  5282      10.0   U  Pacific/Port_Moresby  \n",
      "1 -5.207083  145.788700    20      10.0   U  Pacific/Port_Moresby  \n",
      "2 -5.826789  144.295861  5388      10.0   U  Pacific/Port_Moresby   \n",
      "\n",
      "___   Routes   ___ \n",
      "  Airline AirlineID  Src SrcID Dest DestID Codeshare  Stops Equip\n",
      "0      2B       410  AER  2965  KZN   2990                0   CR2\n",
      "1      2B       410  ASF  2966  KZN   2990                0   CR2\n",
      "2      2B       410  ASF  2966  MRV   2962                0   CR2 \n",
      "\n",
      "___   Airport Codes   ___ \n",
      "  AirportCode                         City_Country  WorldAreaCode\n",
      "0         AAC  AL ARISH, ARAB REP. OF EGYPT                   591\n",
      "1         AAE  ANNABA, ALGERIA                                500\n",
      "2         AAF  APALACHICOLA, FLORIDA, USA                      33\n"
     ]
    }
   ],
   "source": [
    "## pickle each dataframe used above and store in local working directory. \n",
    "## Then check for correctness by reading the pickled file back in.  \n",
    "## Should be the same as the output for question 1\n",
    "\n",
    "dfAirlines.to_pickle('Airlines.pkl')\n",
    "testPickle1 = pd.read_pickle('Airlines.pkl')\n",
    "dfAirports.to_pickle('Airports.pkl')\n",
    "testPickle2 = pd.read_pickle('Airports.pkl')\n",
    "dfRoutes.to_pickle('Routes.pkl')\n",
    "testPickle3 = pd.read_pickle('Routes.pkl')\n",
    "dfAirportCodes.to_pickle('AirportCodes.pkl')\n",
    "testPickle4 = pd.read_pickle('AirportCodes.pkl')\n",
    "print \"----------Pickle test - round trip each dataframe-----------\", '\\n'\n",
    "print \"___   Airlines   ___\", '\\n', testPickle1.head(3),\"\\n\"\n",
    "print \"___   Airports   ___\", '\\n', testPickle2.head(3),\"\\n\"\n",
    "print \"___   Routes   ___\", '\\n', testPickle3.head(3),\"\\n\"\n",
    "print \"___   Airport Codes   ___\", '\\n', testPickle4.head(3)"
   ]
  }
 ],
 "metadata": {
  "anaconda-cloud": {},
  "kernelspec": {
   "display_name": "Python 2",
   "language": "python",
   "name": "python2"
  },
  "language_info": {
   "codemirror_mode": {
    "name": "ipython",
    "version": 2
   },
   "file_extension": ".py",
   "mimetype": "text/x-python",
   "name": "python",
   "nbconvert_exporter": "python",
   "pygments_lexer": "ipython2",
   "version": "2.7.13"
  }
 },
 "nbformat": 4,
 "nbformat_minor": 0
}
