{
 "cells": [
  {
   "cell_type": "markdown",
   "metadata": {
    "button": false,
    "deletable": true,
    "editable": true,
    "new_sheet": false,
    "run_control": {
     "read_only": false
    }
   },
   "source": [
    "(CC) Creative Commons BY-SA Lynd Bacon & Associates, Ltd. DBA Loma Buena Associates"
   ]
  },
  {
   "cell_type": "markdown",
   "metadata": {
    "button": false,
    "deletable": true,
    "editable": true,
    "new_sheet": false,
    "run_control": {
     "read_only": false
    }
   },
   "source": [
    "In this exercise you will create two data \"assets\" for use by the XYZ company in direct marketing campaigns.  You will download data from the SSCC server to your local computer, create a relational database for it that you'll store locally, and create a \"flat\" file with selected customers and variables.  You'll document your work by providing the code you used and some summaries of the data.  You'll save the new assets you created for future use and for sharing with others.\n",
    "\n",
    "To do this assignment you'll be using the SSCC and a Postgres server running on it, Python and the pandas package, and the sqlite database."
   ]
  },
  {
   "cell_type": "markdown",
   "metadata": {
    "button": false,
    "deletable": true,
    "editable": true,
    "new_sheet": false,
    "run_control": {
     "read_only": false
    }
   },
   "source": [
    "## Getting Your Data from the SSCC"
   ]
  },
  {
   "cell_type": "markdown",
   "metadata": {
    "button": false,
    "deletable": true,
    "editable": true,
    "new_sheet": false,
    "run_control": {
     "read_only": false
    }
   },
   "source": [
    "XYZ's data are in a Postgres DB server on the SSCC.  To get them, log in to the dornick server.  You'll need to do this using a VPN client if you are off campus.  Then, connect to the Postgres database server.\n",
    "\n",
    "The _Working with the SSCC_ pdf document and the _SSCC Cheat Sheet_ pdf on the course Canvas site provide some information about how to connect to the SSCC and to get your data from the Postgres DB.\n",
    "\n",
    "You'll find three (3) tables in the Postgres DB pilot schema that are named **item**, **mail**, and **customer**.  Export each table as a csv file with a header record, using a temporary view to do each one.  Using psql is the easiest way to do this.  After you are done, delete each temporary view. \n",
    "\n",
    "Download your three csv files to your computer so that you can work with the data in them using Python."
   ]
  },
  {
   "cell_type": "markdown",
   "metadata": {
    "button": false,
    "deletable": true,
    "editable": true,
    "new_sheet": false,
    "run_control": {
     "read_only": false
    }
   },
   "source": [
    "## Do These Things With the Data"
   ]
  },
  {
   "cell_type": "markdown",
   "metadata": {
    "button": false,
    "deletable": true,
    "editable": true,
    "new_sheet": false,
    "run_control": {
     "read_only": false
    }
   },
   "source": [
    "Once you have your csv files on your computer, do the following:\n",
    "\n",
    "1 Import each of the csv files you downloaded from the SSCC into a pandas DataFrame.\n",
    "> Provide the code you used to do this.  Comment your code to explain it.\n",
    "Print out the columns of your mail DataFrame and the first five (5) records in it. Include your commented code.\n",
    "\n",
    "\n",
    "2 Verify that there are no duplicate customer records in the _customer_ data.\n",
    "> Provide counts of the number of duplicate records in the customer data. Provide your commented code for this. Be sure to include your definition of \"duplicate.\"\n",
    "\n",
    "\n",
    "3 Check the item and mail data to determine whether there are any records in them for customers who are _not_ in the customer data.\n",
    "> Provide counts of the records in the item and mail data that do _not_ belong to any customer in the customer data. Include your commented code with your results.\n",
    "\n",
    "4 Create a __sqlite__ database, and write the customer, item, and mail data into it as tables.  _Do not include any item or mail data that don't match a customer_.  You may want to use the sqlalchemy Python package to do this, or the sqlite3 Python package.  Save your sqlite database for use in the future. (You may be asked to share it.)\n",
    "> Verify that you wrote all the required data to your sqlite DB. Provide your commented code for writing the data and for verifying it.\n",
    "\n",
    "5 Create and export a csv file for XYZ to target in a direct mail marketing campaign.  This file should have the following data fields in it, and it should have a header record giving field names.  It should only include customers who have been mailed at least seven(7) times in XYZ's 16 mail campaigns.\n",
    "\n",
    "```\n",
    "Data fields to be included in the csv file:\n",
    "* account number\n",
    "* number of mail campaigns\n",
    "* 2009 year-to-date transactions\n",
    "* 2009 year-to-date sales\n",
    "* ZHOMEENT\n",
    "* ZMOBAV\n",
    "* ZCREDIT\n",
    "* ZHITECH\n",
    "* ZHOMEENT01\n",
    "* ZMOBAV01\n",
    "* ZCREDIT01\n",
    "* ZHITECH01\n",
    "```\n",
    "\n",
    "The first four \"Z\" variables above are from Experian.  They have categorical value codes that you'll find defined in the XYZ Company data documentation on Canvas \"Resources.\" For each of these \"Z\" variables, create a version that is numeric and is coded \"1\" (numeric) if the original is coded \"Y,\" and \"0\" (numeric) for any other original code.\n",
    "\n",
    ">Provide your commented code for doing the above.  Include code and results for verifying that you created the new 0/1 variables correctly, taking missing values and nulls into account.\n",
    "\n",
    "\n",
    "6 Using the data that you created for exporting to the csv file, create a cross-tabulation table for each of the Z variables and the numeric versions of them that you created, showing for each that that your recoding worked as required.  Understand that the kind of cross-tabulation required has one variable's values in the rows, and the other variable's values in the columns.  Be sure to consider missing values. The total number of cases shown in your crosstabs should equal the number of customers in the csv file. Be careful to take any missing values into account in your table.)\n",
    "> Provide your commented code for this along with the results requested.\n",
    "\n",
    "7 Pickle or Shelve your pandas DataFrames. Save your sqlite DB.\n",
    ">Provide your commented code.\n"
   ]
  },
  {
   "cell_type": "markdown",
   "metadata": {
    "button": false,
    "deletable": true,
    "editable": true,
    "new_sheet": false,
    "run_control": {
     "read_only": false
    }
   },
   "source": [
    "## Your Deliverables"
   ]
  },
  {
   "cell_type": "markdown",
   "metadata": {
    "button": false,
    "deletable": true,
    "editable": true,
    "new_sheet": false,
    "run_control": {
     "read_only": false
    }
   },
   "source": [
    "Provide the above in up to six (6) pages, but in *no more than six pages*, in a pdf file.  Be sure that everything is readable.  Address each of the seven (7) items in turn.  Do 1 by providing your commented code and results, Then do 2 providing code + results, and so on.  Do _not_ provide a list of code for all of the above items in a block, followed by the results of your code in a block.  An assignment organized in this way will be returned ungraded. Be sure all of your code is syntactically correct, and that it approximates good Python coding style."
   ]
  }
 ],
 "metadata": {
  "anaconda-cloud": {},
  "kernelspec": {
   "display_name": "Local Python",
   "language": "python",
   "name": "local"
  },
  "language_info": {
   "codemirror_mode": {
    "name": "ipython",
    "version": 2
   },
   "file_extension": ".py",
   "mimetype": "text/x-python",
   "name": "python",
   "nbconvert_exporter": "python",
   "pygments_lexer": "ipython2",
   "version": "2.7.13"
  }
 },
 "nbformat": 4,
 "nbformat_minor": 0
}
