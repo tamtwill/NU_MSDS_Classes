{
 "cells": [
  {
   "cell_type": "markdown",
   "metadata": {
    "button": false,
    "deletable": true,
    "editable": true,
    "new_sheet": false,
    "run_control": {
     "read_only": false
    }
   },
   "source": [
    "(CC) Creative Commons BY-SA Lynd Bacon & Associates, Ltd. DBA Loma Buena Associates\n",
    "\n",
    "420 Spring 2017"
   ]
  },
  {
   "cell_type": "markdown",
   "metadata": {
    "button": false,
    "deletable": true,
    "editable": true,
    "new_sheet": false,
    "run_control": {
     "read_only": false
    }
   },
   "source": [
    "In this exercise you will work with some TripAdvisor customer review data about a particular hotel. The data is in json files.  To help the hotel understand the feedback the reviews provide, and what it might suggest they should focus on to improve customer experience, in Part I you'll extract each reviewer's ratings of a hotel and will summarize them. You'll save the ratings and the written reviews in separate files that others can use. You'll use Python data structures like dicts, json objects, and pandas DataFrames and Series.  In Part II you'll extract hotel information from a set of json files, saving it into a DataFrame."
   ]
  },
  {
   "cell_type": "markdown",
   "metadata": {
    "button": false,
    "deletable": true,
    "editable": true,
    "new_sheet": false,
    "run_control": {
     "read_only": false
    }
   },
   "source": [
    "## The Data"
   ]
  },
  {
   "cell_type": "markdown",
   "metadata": {
    "button": false,
    "deletable": true,
    "editable": true,
    "new_sheet": false,
    "run_control": {
     "read_only": false
    }
   },
   "source": [
    "The data you'll use in Part I of this Exercise are in the json file 100506.json. This json file contains data in \"nested Python dicts.\"  That is, the data  values are in Python dictionaries, some of which are contained in other dictionaries.  Python dictionaries (\"dicts\") are objects that store key/value pairs.  The \"values\" can be verious kinds of things, including lists, arrays, and other dicts.   The keys need to be unique: there can't be duplicates.  Take a look at your course texts and other materials that have been recommended or made available to you to learn more about dicts.\n",
    "\n",
    "The data includes some information about the hotel, and a number of reviews of it by people who (we assume) stayed at it.\n",
    "\n",
    "These data have been made available by the resarchers of the LARA project, http://www.cs.virginia.edu/~hw5x/dataset.html"
   ]
  },
  {
   "cell_type": "markdown",
   "metadata": {
    "button": false,
    "deletable": true,
    "editable": true,
    "new_sheet": false,
    "run_control": {
     "read_only": false
    }
   },
   "source": [
    "## Your Objectives"
   ]
  },
  {
   "cell_type": "markdown",
   "metadata": {
    "button": false,
    "deletable": true,
    "new_sheet": false,
    "run_control": {
     "read_only": false
    }
   },
   "source": [
    "Part I\n",
    "\n",
    "1. Extract the reviewer data from the json file into a Pandas DataFrame with reviewers in the rows, and the numerical ratings, review date, and review author name in columns.\n",
    "2. Calculate the mean, and the minimum and maximum for each rating.\n",
    "3. Save your numeric ratings data as a DataFrame in a pickle file in a shelve DB.\n",
    "4. Save the reviewers' comments as text data indexed by reviewer name.  Include with each written review its review date.\n",
    "\n",
    "Part II\n",
    "\n",
    "You'll be processing additional json data files to parse the \"HotelInfo\" data in all the json files into a single Pandas DataFrame that is suitable for subsequent anlyses.\n",
    "\n",
    "You may be asked to share your code and data with others."
   ]
  },
  {
   "cell_type": "markdown",
   "metadata": {
    "button": false,
    "deletable": true,
    "editable": true,
    "new_sheet": false,
    "run_control": {
     "read_only": false
    }
   },
   "source": [
    "## Working with the 100506.json file (Part I) and the other json files (Part II)"
   ]
  },
  {
   "cell_type": "markdown",
   "metadata": {
    "button": false,
    "deletable": true,
    "editable": true,
    "new_sheet": false,
    "run_control": {
     "read_only": false
    }
   },
   "source": [
    "Put the file 100506.json in a location you can read from in a Python session. The file is a json file, so import the json package into your Python session.  Let's call the Python object you've loaded into \"jsondat.\"  You might have read the contents of the file into a Python session like:"
   ]
  },
  {
   "cell_type": "raw",
   "metadata": {
    "button": false,
    "deletable": true,
    "editable": true,
    "new_sheet": false,
    "run_control": {
     "read_only": false
    }
   },
   "source": [
    "with open('100506.json') as input_file:\n",
    "    jsondat=json.load(input_file)\n"
   ]
  },
  {
   "cell_type": "markdown",
   "metadata": {
    "button": false,
    "deletable": true,
    "editable": true,
    "new_sheet": false,
    "run_control": {
     "read_only": false
    }
   },
   "source": [
    "`jsondat` is (or should be) a dictionary of dictionaries.  It includes information about the hotel, and also reviews written by customers that include text and ratings.  The 'with' idiom ensures that the file you access is closed once it is read. \n",
    "\n",
    "Just as a reminder, in Python, lists are demarked with square brackets, [ ], dictionaries (\"dicts\") with curly brackets, { }, and tuples (often) and sets with parens, ( ). \n",
    "\n",
    "Your reviews data is in jsondat[\"Reviews\"]. Reviews consists of some number of reviews by people who have visited the hotel.  Each review is a dictionary that includes the reviewer's name (\"Author\"), some ratings that are in their own dict (\"Ratings\"), a review date (\"Date\"), and possibly some descriptive text.  You want to extract the authors' names, their ratings, and their review dates from `jsondat`, and put them into a Pandas DataFrame.  You want the ratings to be numeric so that you can calculate some descriptive statistics.  When all is done you'll save your results so that you can retrieve them or share them with others.  You want to save the reviewers' text comments along with their author names and their review dates.\n",
    "\n",
    "Doing It, __Part I__\n",
    "\n",
    "There are different ways you could do this exercise.  Regardless of how you go about it, It's useful as uaual to break down necessary steps into the simplest pieces possible so that you can test each piece to see that it works. It's easy to do this in an interactive Python session because you can enter single commands or just a few commands to see how they work. Here are some ideas about how to proceed with the data at hand.\n",
    "\n",
    "You need to create two data \"objects\" you will save.  One is a pandas DataFrame with reviewers' hotel ratings in it. The other (type not specified so it's your choice; a DataFrame might suffice) includes reviewers' comments about the hotel as text data.\n",
    "\n",
    "Note that the data (the \"values\") in the json data is Unicode character data.  (That's what those \"u's\" indicate before the character strings.)  You'll want to convert the ratings data to be numeric. You can do this as you process each review, or afterward in your DataFrame.\n",
    "\n",
    "It's up to you what kind of Python data object to put the comments data in when you extract it from jsondat[\"Reviews\"].\n",
    "\n",
    "Some have found the json_normalize() method in pandas.io.json to be useful for this exercise. It can provide you with some of what you need, but not a \"complete solution.\"  You may also find examples of \"flattening\" json objects with an online search.\n",
    "\n",
    "Doing It, __Part II__\n",
    "\n",
    "You may have noticed more json files on Canvas with this assignment.  Each is for a different hotel.  Download all of them to a directory on your computer if you haven't already done so.\n",
    "\n",
    "Now, suppose that your \"Powers That Be\" wanted for their analyses a data set of the hotel information that's in files like these and in 100506.json for a number of hotels. Write Python code to parse the \"HotelInfo\" in all the json files into a single DataFrame for use in subsequent analyses. Take the approach of looping over a number of json files in a single directory, reading in and processing the files one file at a time.  _Do not_ process each of the files separately with code specific to each of them. (Be DRY.) Do it in a loop of some kind, and use the same code for all the files you input.  Your method should work for an arbitrarily large number of json files in a single directory, for anywhere from one hotel file to a \"gninormous\" number of files, and _not_ just for these exact files.\n",
    "\n",
    "__IMPORTANT:__ Be sure to save only the hotel info data for each hotel, and _not_ any formatting marks or html tags.  The tags are residuals from web scraping.  They should not be included in your DataFrame.  They are not data about the hotels.\n",
    "\n",
    "_Save your DataFrames so that you can retrieve them later.  You may be asked to share them._\n"
   ]
  },
  {
   "cell_type": "markdown",
   "metadata": {
    "button": false,
    "deletable": true,
    "editable": true,
    "new_sheet": false,
    "run_control": {
     "read_only": false
    }
   },
   "source": [
    "## Your Deliverables"
   ]
  },
  {
   "cell_type": "markdown",
   "metadata": {
    "button": false,
    "deletable": true,
    "editable": true,
    "new_sheet": false,
    "run_control": {
     "read_only": false
    }
   },
   "source": [
    "In _no more than six(6) pages_, in a pdf file, provide the following.\n",
    "\n",
    "__Part I__\n",
    "\n",
    "Provide your commented, syntactically correct code for each step you took to create the two results required.\n",
    "\n",
    "For each step, provide example output that demonstrates results. Your commented, syntactically correct code and your examples of the results of applying it should provde a full explanation of how each step in your process.  Do _not_ submit all of your code for this assigment in a single block, followed by a block of all of your output.   __Assignments organized in this manner will not be graded.__\n",
    "\n",
    "Ways to demonstrate the results of creating or transforming data include outputting example records from DataFrames  (using the .head() method, for example), and describing the types of a DataFrame's columns.\n",
    "\n",
    "The above should give you an idea of what your assignment should be like.  Review the above for details of what you deliverables should include.  Don't forget to consider the stated objectives.\n",
    "\n",
    "__Part II__\n",
    "\n",
    "This should be done like part I, above.  Take note of the requirement that with your code should work for an arbitrarily large number of json files.  Also, assume that you don't know how many files it may need to work on, a priori.\n",
    "\n"
   ]
  }
 ],
 "metadata": {
  "anaconda-cloud": {},
  "kernelspec": {
   "display_name": "Python 2",
   "language": "python",
   "name": "python2"
  },
  "language_info": {
   "codemirror_mode": {
    "name": "ipython",
    "version": 2
   },
   "file_extension": ".py",
   "mimetype": "text/x-python",
   "name": "python",
   "nbconvert_exporter": "python",
   "pygments_lexer": "ipython2",
   "version": "2.7.13"
  }
 },
 "nbformat": 4,
 "nbformat_minor": 0
}
