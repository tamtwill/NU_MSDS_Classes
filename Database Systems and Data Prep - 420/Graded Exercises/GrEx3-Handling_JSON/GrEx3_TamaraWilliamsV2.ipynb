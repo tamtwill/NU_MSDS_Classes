{
 "cells": [
  {
   "cell_type": "markdown",
   "metadata": {},
   "source": [
    "Part I\n",
    "\n",
    "1. Extract the reviewer data from the json file into a Pandas DataFrame with reviewers in the rows, and the numerical ratings, review date, and review author name in columns.\n",
    "2. Calculate the mean, and the minimum and maximum for each rating.\n",
    "3. Save your numeric ratings data as a DataFrame in a pickle file in a shelve DB.\n",
    "4. Save the reviewers' comments as text data indexed by reviewer name.  Include with each written review its review date."
   ]
  },
  {
   "cell_type": "code",
   "execution_count": 2,
   "metadata": {
    "collapsed": false
   },
   "outputs": [
    {
     "name": "stdout",
     "output_type": "stream",
     "text": [
      "set([   u'Business service (e.g., internet access)',\n",
      "        u'Check in / front desk',\n",
      "        u'Cleanliness',\n",
      "        u'Location',\n",
      "        u'Overall',\n",
      "        u'Rooms',\n",
      "        u'Service',\n",
      "        u'Sleep Quality',\n",
      "        u'Value'])\n"
     ]
    }
   ],
   "source": [
    "import pandas as pd\n",
    "import json\n",
    "import pprint\n",
    "pp = pprint.PrettyPrinter(indent=4)\n",
    "    \n",
    "with open('100506.json') as input_file:\n",
    "    j_dict =json.load(input_file)\n",
    "\n",
    "# iterate thru the json to get all the Ratings under Review    \n",
    "unique_keys = set()\n",
    "item_list = []\n",
    "for x in j_dict['Reviews']:\n",
    "    item_list.append(x['Ratings'])\n",
    "    for rating_key in x['Ratings']:\n",
    "        unique_keys.add(rating_key)\n",
    "## use pp to wrap correctly for output to PDF\n",
    "pp.pprint(unique_keys)"
   ]
  },
  {
   "cell_type": "code",
   "execution_count": 3,
   "metadata": {
    "collapsed": false
   },
   "outputs": [
    {
     "name": "stdout",
     "output_type": "stream",
     "text": [
      "   Service  Cleanliness  Business service (e.g., internet access)  \\\n",
      "0      1.0          1.0                                       NaN   \n",
      "1      4.0          4.0                                       NaN   \n",
      "2      1.0          2.0                                       NaN   \n",
      "3      1.0          1.0                                       NaN   \n",
      "4      1.0          NaN                                       NaN   \n",
      "\n",
      "   Check in / front desk  Overall  Value  Sleep Quality  Rooms  Location  \n",
      "0                    NaN      1.0    1.0            1.0    1.0       5.0  \n",
      "1                    NaN      4.0    3.0            5.0    3.0       5.0  \n",
      "2                    NaN      1.0    1.0            1.0    1.0       1.0  \n",
      "3                    NaN      1.0    1.0            1.0    1.0       1.0  \n",
      "4                    NaN      1.0    3.0            NaN    1.0       5.0  \n"
     ]
    }
   ],
   "source": [
    "df_scores = pd.DataFrame(item_list, columns=unique_keys)\n",
    "\n",
    "## Convert columns to be numeric, not object in type, otherwise the \n",
    "## 'describe' method will return counts not averages\n",
    "df_scores[['Check in / front desk','Overall','Value','Sleep Quality',\n",
    "    'Rooms', 'Location', 'Service', 'Cleanliness', \n",
    "    'Business service (e.g., internet access)']] = df_scores[[\n",
    "    'Check in / front desk','Overall','Value',\n",
    "    'Sleep Quality','Rooms','Location', 'Service','Cleanliness', \n",
    "    'Business service (e.g., internet access)']].apply(pd.to_numeric)\n",
    "print df_scores.head()"
   ]
  },
  {
   "cell_type": "code",
   "execution_count": 4,
   "metadata": {
    "collapsed": false
   },
   "outputs": [
    {
     "name": "stdout",
     "output_type": "stream",
     "text": [
      "          Author                Date     ReviewID\n",
      "0  luvsroadtrips     January 3, 2012  UR122476164\n",
      "1      estelle e   December 29, 2011  UR122239883\n",
      "2     RobertEddy   December 20, 2011  UR121931325\n",
      "3        James R    October 30, 2011  UR119896310\n",
      "4       Shobha49  September 14, 2011  UR118110693\n"
     ]
    }
   ],
   "source": [
    "## Copy the original dataframe, get rid of unneeded columns so it can be\n",
    "## joined to 'scores', to get the final frame as specified by the problem,\n",
    "df_origin = pd.DataFrame(j_dict['Reviews'])\n",
    "df_tmp = df_origin.copy()\n",
    "df_tmp.drop(df_tmp.columns[[1,2,4,6]], axis=1, inplace=True)\n",
    "print df_tmp.head()"
   ]
  },
  {
   "cell_type": "code",
   "execution_count": 5,
   "metadata": {
    "collapsed": false,
    "scrolled": true
   },
   "outputs": [
    {
     "name": "stdout",
     "output_type": "stream",
     "text": [
      "          Author                Date     ReviewID  Service  Cleanliness  \\\n",
      "0  luvsroadtrips     January 3, 2012  UR122476164      1.0          1.0   \n",
      "1      estelle e   December 29, 2011  UR122239883      4.0          4.0   \n",
      "2     RobertEddy   December 20, 2011  UR121931325      1.0          2.0   \n",
      "3        James R    October 30, 2011  UR119896310      1.0          1.0   \n",
      "4       Shobha49  September 14, 2011  UR118110693      1.0          NaN   \n",
      "\n",
      "   Business service (e.g., internet access)  Check in / front desk  Overall  \\\n",
      "0                                       NaN                    NaN      1.0   \n",
      "1                                       NaN                    NaN      4.0   \n",
      "2                                       NaN                    NaN      1.0   \n",
      "3                                       NaN                    NaN      1.0   \n",
      "4                                       NaN                    NaN      1.0   \n",
      "\n",
      "   Value  Sleep Quality  Rooms  Location  \n",
      "0    1.0            1.0    1.0       5.0  \n",
      "1    3.0            5.0    3.0       5.0  \n",
      "2    1.0            1.0    1.0       1.0  \n",
      "3    1.0            1.0    1.0       1.0  \n",
      "4    3.0            NaN    1.0       5.0  \n"
     ]
    }
   ],
   "source": [
    "df_ratings = df_tmp.join(df_scores)\n",
    "print df_ratings.head()"
   ]
  },
  {
   "cell_type": "code",
   "execution_count": 6,
   "metadata": {
    "collapsed": false,
    "scrolled": true
   },
   "outputs": [
    {
     "name": "stdout",
     "output_type": "stream",
     "text": [
      "          Author                                            Content  \\\n",
      "0  luvsroadtrips  This place is not even suitable for the homele...   \n",
      "1      estelle e  We stayed in downtown hotel Seattle for two ni...   \n",
      "2     RobertEddy  i made reservations and when i showed up, i qu...   \n",
      "3        James R  This hotel is so bad it's a joke. I could bare...   \n",
      "4       Shobha49  My husband and I stayed at this hotel from 16t...   \n",
      "\n",
      "                 Date  \n",
      "0     January 3, 2012  \n",
      "1   December 29, 2011  \n",
      "2   December 20, 2011  \n",
      "3    October 30, 2011  \n",
      "4  September 14, 2011  \n"
     ]
    }
   ],
   "source": [
    "## per problem statement, we are indexing on review name, otherwise I'd \n",
    "## never drop ReviewID.  Drop everything except Author, Date and \n",
    "## Content to create the comments frame\n",
    "df_comments = df_origin.copy()\n",
    "df_comments.drop(df_comments.columns[[1,4,5,6]], axis=1, inplace=True)\n",
    "print df_comments.head()"
   ]
  },
  {
   "cell_type": "code",
   "execution_count": 7,
   "metadata": {
    "collapsed": false
   },
   "outputs": [
    {
     "name": "stdout",
     "output_type": "stream",
     "text": [
      "      Service  Cleanliness  Business service (e.g., internet access)  \\\n",
      "mean      2.3          2.0                                       1.0   \n",
      "min       1.0          1.0                                       1.0   \n",
      "max       5.0          5.0                                       1.0   \n",
      "\n",
      "      Check in / front desk   Overall  Value  Sleep Quality     Rooms  \\\n",
      "mean                    3.0  1.666667    2.0       2.176471  1.545455   \n",
      "min                     1.0  1.000000    1.0       1.000000  1.000000   \n",
      "max                     5.0  4.000000    5.0       5.000000  5.000000   \n",
      "\n",
      "      Location  \n",
      "mean       4.0  \n",
      "min        1.0  \n",
      "max        5.0  \n"
     ]
    }
   ],
   "source": [
    "## Use the pandas describe() method to get basic summary \n",
    "## stats.  It returns more than requested, so drop\n",
    "## the extras\n",
    "df_stats = df_ratings.describe()\n",
    "df_stats.drop(df_stats.index[[0,2,4,5,6]], inplace=True)\n",
    "print df_stats"
   ]
  },
  {
   "cell_type": "code",
   "execution_count": 8,
   "metadata": {
    "collapsed": false
   },
   "outputs": [
    {
     "name": "stdout",
     "output_type": "stream",
     "text": [
      "['hotels.pkl', 'ratings.pkl', 'stats.pkl']\n",
      "['hotel_info.csv', 'ratings.csv', 'review_comments.csv']\n"
     ]
    }
   ],
   "source": [
    "# pickle and save \n",
    "df_stats.to_pickle('stats.pkl')\n",
    "df_ratings.to_pickle('ratings.pkl')\n",
    "df_ratings.to_csv('ratings.csv', header=True, index=False, \n",
    "                  encoding='utf-8')\n",
    "df_comments.to_csv('review_comments.csv', header=True, index=False, \n",
    "                   encoding='utf-8')\n",
    "import glob\n",
    "print glob.glob(\"*.pkl\")\n",
    "print glob.glob(\"*.csv\")"
   ]
  },
  {
   "cell_type": "markdown",
   "metadata": {},
   "source": [
    "Part II\n",
    "\n",
    "You'll be processing additional json data files to parse the \"HotelInfo\" data in all the json files into a single Pandas DataFrame that is suitable for subsequent anlyses.\n",
    "\n",
    "You may be asked to share your code and data with others."
   ]
  },
  {
   "cell_type": "code",
   "execution_count": 9,
   "metadata": {
    "collapsed": false,
    "scrolled": false
   },
   "outputs": [
    {
     "name": "stdout",
     "output_type": "stream",
     "text": [
      "                                Name  \\\n",
      "0                      Hotel Seattle   \n",
      "1                                NaN   \n",
      "2           Kendall Hotel and Suites   \n",
      "3  San Diego Marriott Mission Valley   \n",
      "4              Hotel Banys Orientals   \n",
      "\n",
      "                                            HotelURL  HotelID  \\\n",
      "0  /ShowUserReviews-g60878-d100506-Reviews-Hotel_...   100506   \n",
      "1  http://www.tripadvisor.com/ShowUserReviews-g60...  1217974   \n",
      "2  /ShowUserReviews-g34438-d240124-Reviews-Kendal...   240124   \n",
      "3  /ShowUserReviews-g60750-d80232-Reviews-San_Die...  2515575   \n",
      "4  /ShowUserReviews-g187497-d287670-Reviews-Hotel...   287670   \n",
      "\n",
      "                                             Address         Price  \\\n",
      "0               315 Seneca St., Seattle, WA 98101      $96 - $118*   \n",
      "1                                                NaN       Unkonwn   \n",
      "2       9100 North Kendall Drive, Miami, FL 33176     $124 - $181*   \n",
      "3    8757 Rio San Diego Drive, San Diego, CA 9210...  $158 - $248*   \n",
      "4          c/ Argenteria 37, 08003 Barcelona, Spain   $115 - $131*   \n",
      "\n",
      "                                              ImgURL  \n",
      "0  http://media-cdn.tripadvisor.com/media/Provide...  \n",
      "1                                                NaN  \n",
      "2  http://media-cdn.tripadvisor.com/media/Provide...  \n",
      "3  http://media-cdn.tripadvisor.com/media/Provide...  \n",
      "4  http://media-cdn.tripadvisor.com/media/photo-s...  \n"
     ]
    }
   ],
   "source": [
    "import glob\n",
    "import re\n",
    "\n",
    "## Get the list of JSON files from a specific directory, here the \n",
    "## directory 'hotel_files' which is a subdirectory of local\n",
    "file_list = glob.iglob('./hotel_files/*.json')\n",
    "row_count = 0\n",
    "\n",
    "##initialize a clean dataframe\n",
    "df_hotels = pd.DataFrame()\n",
    "\n",
    "## iterate over every file in the list from the directory.  \n",
    "## Get the JSON blob, iterate over it column-wise.  For \n",
    "## each row-column cell, run the JSON thru RegEx to clean \n",
    "## the HTML tags out, then save the to dataframe\n",
    "for f in file_list:\n",
    "    with open(f) as input_file:\n",
    "        try:\n",
    "            tmp = json.load(input_file)\n",
    "            col_list = []\n",
    "            for x in tmp['HotelInfo']:\n",
    "                value = str(tmp['HotelInfo'][x])\n",
    "                clean_val = re.sub('<[^>]*>', '', value)\n",
    "                df_hotels.set_value(row_count, x, clean_val)\n",
    "        except ValueError:\n",
    "            print \"File\", f, \"is not a valid JSON file\"\n",
    "    row_count+=1\n",
    "print df_hotels.head()"
   ]
  },
  {
   "cell_type": "code",
   "execution_count": 10,
   "metadata": {
    "collapsed": false
   },
   "outputs": [
    {
     "name": "stdout",
     "output_type": "stream",
     "text": [
      "['hotels.pkl', 'ratings.pkl', 'stats.pkl']\n",
      "['hotel_info.csv', 'ratings.csv', 'review_comments.csv']\n"
     ]
    }
   ],
   "source": [
    "## Save the HotelInfo dataframe\n",
    "df_hotels.to_csv('hotel_info.csv', header=True, \n",
    "                 index=False, encoding='utf-8')            \n",
    "df_hotels.to_pickle('hotels.pkl')\n",
    "print glob.glob(\"*.pkl\")\n",
    "print glob.glob(\"*.csv\")"
   ]
  }
 ],
 "metadata": {
  "anaconda-cloud": {},
  "kernelspec": {
   "display_name": "Python 2",
   "language": "python",
   "name": "python2"
  },
  "language_info": {
   "codemirror_mode": {
    "name": "ipython",
    "version": 2
   },
   "file_extension": ".py",
   "mimetype": "text/x-python",
   "name": "python",
   "nbconvert_exporter": "python",
   "pygments_lexer": "ipython2",
   "version": "2.7.13"
  }
 },
 "nbformat": 4,
 "nbformat_minor": 0
}
