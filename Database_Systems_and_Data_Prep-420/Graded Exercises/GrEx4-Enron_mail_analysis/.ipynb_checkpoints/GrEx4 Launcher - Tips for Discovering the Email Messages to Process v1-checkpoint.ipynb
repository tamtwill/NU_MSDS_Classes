{
 "cells": [
  {
   "cell_type": "markdown",
   "metadata": {
    "button": false,
    "deletable": true,
    "new_sheet": false,
    "run_control": {
     "read_only": false
    }
   },
   "source": [
    "### Getting Ken Lay Email Messages"
   ]
  },
  {
   "cell_type": "markdown",
   "metadata": {
    "button": false,
    "deletable": true,
    "new_sheet": false,
    "run_control": {
     "read_only": false
    }
   },
   "source": [
    "This GrEx requires you to extract email message from the ES Enron index that were sent to, or sent from, Ken Lay.  Lay may have used more tha one email address.  So your challenge is to identify the addresses he may have used. You could use the following approach to do this."
   ]
  },
  {
   "cell_type": "markdown",
   "metadata": {
    "button": false,
    "deletable": true,
    "new_sheet": false,
    "run_control": {
     "read_only": false
    }
   },
   "source": [
    "1 download all 270,000+ email messages in ES on the SSCC."
   ]
  },
  {
   "cell_type": "markdown",
   "metadata": {
    "button": false,
    "deletable": true,
    "new_sheet": false,
    "run_control": {
     "read_only": false
    }
   },
   "source": [
    "2 extract the email addresses in the To and From fields from each message, keeping track of the message ID that each address is associated with."
   ]
  },
  {
   "cell_type": "markdown",
   "metadata": {
    "button": false,
    "deletable": true,
    "new_sheet": false,
    "run_control": {
     "read_only": false
    }
   },
   "source": [
    "3 inspect the email addresses and identify those that appear to have been used by or for Ken Lay."
   ]
  },
  {
   "cell_type": "markdown",
   "metadata": {
    "button": false,
    "deletable": true,
    "new_sheet": false,
    "run_control": {
     "read_only": false
    }
   },
   "source": [
    "4 use the message ID's associated with Ken Lay addresses to select messages To or From him for the addtional processing required by GrEx4."
   ]
  },
  {
   "cell_type": "markdown",
   "metadata": {
    "button": false,
    "deletable": true,
    "new_sheet": false,
    "run_control": {
     "read_only": false
    }
   },
   "source": [
    "The entire Enron index is rather large, and it can take a few minutes to download it using a scroll scearch run using the Python `elasticsearch` client running in a local Python session.  With any luck the whole thing fit on the computer you are using. If it doesn't, a \"Plan B\" would be to extract and save only message ID's and email addresses from each message as you scroll search the index. Then, once you've identified the message ID's associated with Ken Lay email addresses, use them to do a follow-up query of the Enron index that only returns those messages with Ken Lay email addresses in them.\n",
    "\n",
    "Note that for this assignment, you only need to be concerned with Ken Lay email addresses appearing in the To and From email header fields.  You may find what could be Lay email addresses in the 'X-' fields, which include information for cc and bcc headers, which themselves are not included in the Enron index.  It's possible that's what's in the X- fields might help you decide whether an email address is a Ken Lay email address."
   ]
  }
 ],
 "metadata": {
  "kernelspec": {
   "display_name": "Python 2",
   "language": "python",
   "name": "python2"
  },
  "language_info": {
   "codemirror_mode": {
    "name": "ipython",
    "version": 2
   },
   "file_extension": ".py",
   "mimetype": "text/x-python",
   "name": "python",
   "nbconvert_exporter": "python",
   "pygments_lexer": "ipython2",
   "version": "2.7.13"
  }
 },
 "nbformat": 4,
 "nbformat_minor": 2
}
