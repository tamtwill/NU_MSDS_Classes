{
 "cells": [
  {
   "cell_type": "markdown",
   "metadata": {
    "button": false,
    "deletable": true,
    "new_sheet": false,
    "run_control": {
     "read_only": false
    }
   },
   "source": [
    "# The Task at Hand:  Getting Airline Data In Order"
   ]
  },
  {
   "cell_type": "markdown",
   "metadata": {
    "button": false,
    "deletable": true,
    "new_sheet": false,
    "run_control": {
     "read_only": false
    }
   },
   "source": [
    "(CC) Creative Commons BY-SA Lynd Bacon & Associates, Ltd. DBA Loma Buena Associates"
   ]
  },
  {
   "cell_type": "markdown",
   "metadata": {
    "button": false,
    "deletable": true,
    "new_sheet": false,
    "run_control": {
     "read_only": false
    }
   },
   "source": [
    "## Your Data"
   ]
  },
  {
   "cell_type": "markdown",
   "metadata": {
    "button": false,
    "deletable": true,
    "new_sheet": false,
    "run_control": {
     "read_only": false
    }
   },
   "source": [
    "The data you'll use for this assignment are from [OpenFlights.org](http://www.openflights.org)."
   ]
  },
  {
   "cell_type": "markdown",
   "metadata": {
    "button": false,
    "deletable": true,
    "new_sheet": false,
    "run_control": {
     "read_only": false
    }
   },
   "source": [
    "You are provided with three data files, one for airports, one for routes, and one for airlines.  The data are for up to January 2012.  You'll be using this data for a couple of upcoming tasks, so be sure to keep track of them and to save your work with them."
   ]
  },
  {
   "cell_type": "markdown",
   "metadata": {
    "button": false,
    "deletable": true,
    "new_sheet": false,
    "run_control": {
     "read_only": false
    }
   },
   "source": [
    "The data in the file **airports.dat** look like this. Here are the first four (4) records in this file:\n",
    "\n",
    "1,\"Goroka\",\"Goroka\",\"Papua New Guinea\",\"GKA\",\"AYGA\",-6.081689,145.391881,5282,10,\"U\",\"Pacific/Port_Moresby\" <br/>\n",
    "2,\"Madang\",\"Madang\",\"Papua New Guinea\",\"MAG\",\"AYMD\",-5.207083,145.7887,20,10,\"U\",\"Pacific/Port_Moresby\"<br />\n",
    "3,\"Mount Hagen\",\"Mount Hagen\",\"Papua New Guinea\",\"HGU\",\"AYMH\",-5.826789,144.295861,5388,10,\"U\",\"Pacific/Port_Moresby\" <br />\n",
    "4,\"Nadzab\",\"Nadzab\",\"Papua New Guinea\",\"LAE\",\"AYNZ\",-6.569828,146.726242,239,10,\"U\",\"Pacific/Port_Moresby\" <br />"
   ]
  },
  {
   "cell_type": "markdown",
   "metadata": {
    "button": false,
    "deletable": true,
    "new_sheet": false,
    "run_control": {
     "read_only": false
    }
   },
   "source": [
    "What you have here is a character (comma in this case) separated value file.\n",
    "\n",
    "Here are the fields in this file, according to OpenFlights.org:\n",
    "\n",
    "* Airport ID : Unique OpenFlights identifier for this airport. \n",
    "* Name : Name of airport. May or may not contain the City name.\n",
    "* City : Main city served by airport. May be spelled differently from Name.\n",
    "* Country : Country or territory where airport is located.\n",
    "* IATA/FAA : 3-letter FAA code, for airports located in Country \"United States of America\". 3-letter IATA code, for all other airports. Blank if not assigned.\n",
    "* ICAO : 4-letter ICAO code. Blank if not assigned.\n",
    "* Latitude : Decimal degrees, usually to six significant digits. Negative is South, positive is North.\n",
    "* Longitude : Decimal degrees, usually to six significant digits. Negative is West, positive is East.\n",
    "* Altitude : In feet.\n",
    "* Timezone : Hours offset from UTC. Fractional hours are expressed as decimals, eg. India is 5.5.\n",
    "* DST : Daylight savings time. One of E (Europe), A (US/Canada), S (South America), O (Australia), Z (New Zealand), N (None) or U (Unknown).\n",
    "* Tz : database time zoneTimezone in \"tz\" (Olson) format, eg. \"America/Los_Angeles\". \n",
    "\n",
    "\n",
    "\n",
    "\n",
    "\n"
   ]
  },
  {
   "cell_type": "markdown",
   "metadata": {
    "button": false,
    "deletable": true,
    "new_sheet": false,
    "run_control": {
     "read_only": false
    }
   },
   "source": [
    "OpenFlights says:\n",
    "    \n",
    "The data is ISO 8859-1 (Latin-1) encoded, with no special characters.\n",
    "\n",
    "Note: Rules for daylight savings time change from year to year and from country to country. The current data is an approximation for 2009, built on a country level. Most airports in DST-less regions in countries that generally observe DST (eg. AL, HI in the USA, NT, QL in Australia, parts of Canada) are marked incorrectly.\""
   ]
  },
  {
   "cell_type": "markdown",
   "metadata": {
    "button": false,
    "deletable": true,
    "new_sheet": false,
    "run_control": {
     "read_only": false
    }
   },
   "source": [
    "The other two files, **routes.dat** and **airlines.dat**, are similar to **airports.dat**.  The fields in **airlines.dat** are:\n",
    "\n",
    "* Airline ID : Unique OpenFlights identifier for this airline. \n",
    "* Name : Name of the airline. \n",
    "* Alias : Alias of the airline. For example, All Nippon Airways is commonly known as \"ANA\". \n",
    "* IATA : 2-letter IATA code, if available.\n",
    "* ICAO : 3-letter ICAO code, if available.\n",
    "* Callsign : Airline callsign.\n",
    "* Country : Country or territory where airline is incorporated.\n",
    "* Active : \"Y\" if the airline is or has until recently been operational, \"N\" if it is defunct. This field is not reliable: in particular, major airlines that stopped flying long ago, but have not had their IATA code reassigned (eg. Ansett/AN), will incorrectly show as \"Y\".\n"
   ]
  },
  {
   "cell_type": "markdown",
   "metadata": {
    "button": false,
    "deletable": true,
    "new_sheet": false,
    "run_control": {
     "read_only": false
    }
   },
   "source": [
    "Additional information about the **airlines.dat** data from OpenFlights:\n",
    "    \n",
    "The data is ISO 8859-1 (Latin-1) encoded. The special value \\N is used for \"NULL\" to indicate that no value is available, and is understood automatically by MySQL if imported.\n",
    "Notes: Airlines with null codes/callsigns/countries generally represent user-added airlines. Since the data is intended primarily for current flights, defunct IATA codes are generally not included. For example, \"Sabena\" is not listed with a SN IATA code, since \"SN\" is presently used by its successor Brussels Airlines."
   ]
  },
  {
   "cell_type": "markdown",
   "metadata": {
    "button": false,
    "deletable": true,
    "new_sheet": false,
    "run_control": {
     "read_only": false
    }
   },
   "source": [
    "**routes.dat** has the following data fields:\n",
    "\n",
    "* Airline : 2-letter (IATA) or 3-letter (ICAO) code of the airline. \n",
    "* Airline ID : Unique OpenFlights identifier for airline (see Airline). \n",
    "* Source airport : 3-letter (IATA) or 4-letter (ICAO) code of the source airport.\n",
    "* Source airport ID : Unique OpenFlights identifier for source airport (see Airport) \n",
    "* Destination airport : 3-letter (IATA) or 4-letter (ICAO) code of the destination airport.\n",
    "* Destination airport ID : Unique OpenFlights identifier for destination airport (see Airport) \n",
    "* Codeshare : \"Y\" if this flight is a codeshare (that is, not operated by Airline, but another carrier), empty otherwise.\n",
    "* Stops : Number of stops on this flight (\"0\" for direct)\n",
    "* Equipment : 3-letter codes for plane type(s) generally used on this flight, separated by spaces\n"
   ]
  },
  {
   "cell_type": "markdown",
   "metadata": {
    "button": false,
    "deletable": true,
    "new_sheet": false,
    "run_control": {
     "read_only": false
    }
   },
   "source": [
    "Here's some additional information about **routes.dat**:\n",
    "\n",
    "The data is ISO 8859-1 (Latin-1) encoded. The special value \\N is used for \"NULL\" to indicate that no value is available, and is understood automatically by MySQL if imported.  (Note: the \\N is how missings were coded. It's not be taken as the _newline_ character.)\n",
    "\n",
    "Notes: \n",
    "* Routes are directional: if an airline operates services from A to B and from B to A, both A-B and B-A are listed separately. \n",
    "* Routes where one carrier operates both its own and codeshare flights are listed only once. \n"
   ]
  },
  {
   "cell_type": "markdown",
   "metadata": {
    "button": false,
    "deletable": true,
    "new_sheet": false,
    "run_control": {
     "read_only": false
    }
   },
   "source": [
    "## What You Need to Do"
   ]
  },
  {
   "cell_type": "markdown",
   "metadata": {
    "button": false,
    "deletable": true,
    "new_sheet": false,
    "run_control": {
     "read_only": false
    }
   },
   "source": [
    "Here's what you need to do for this exercise.  You'll use Python do to it. You can use the Enthought Canopy distribution, or some other version of Python, like the Continuum Anaconda scientific Python distribution.    For each of the following, provide syntactically correct and commented code, followed by the results that your code produced for what is requested.  Your commenting should explain what your code does.  Use Python conventions for including your comments with your code.\n",
    "\n",
    "Here's a style guide for Python code that you might find useful:\n",
    "\n",
    "[PEP 8 Style Guide for Python Code](https://www.python.org/dev/peps/pep-0008/)\n",
    "\n",
    "Submit your assignment in a pdf file of three or four pages, _but in no more than six (6) pages_. \n",
    "\n",
    "#### 1. Read each data file into a Pandas DataFrame.  Add meaningful names (i.e., names that would make sense to other people, given the data) to the columns of each DataFrame.\n",
    "    \n",
    "* Provide your syntactically correct, commented code.\n",
    "* Print the first three rows of each DataFrame.  Provide your code, and the results it produced. \n",
    "    \n",
    "#### 2. Check each DataFrame for duplicate records.  For each, report the number of duplicates you found.\n",
    "    \n",
    "* Provide your commented, syntactically correct code and the results it produced.  \n",
    "    \n",
    "#### 3. Describe the data types of the columns in each of the DataFrames.\n",
    "    \n",
    "* Provide your commented, syntactically correct code and the results it produced.  \n",
    "        \n",
    "#### 4. Determine how many of the airlines are \"defunct.\" \n",
    "    \n",
    "* Provide your definition of what a defunct airline is.\n",
    "* Provide your commented, syntactically correct code and the results it produced.  \n",
    "    \n",
    "\n",
    "#### 5. Determine how many \"routes from nowhere\" there are in the data.  These are flights that don't originate from an airport.\n",
    "    \n",
    "* Provide your commented, syntactically correct code and the results it produced.  \n",
    "        \n",
    "#### 6. Save your DataFrames for future use.  You may pickle them, put them in a shelve db, on in a the tables of a SQL db.  Check to make sure that they are saved correctly.\n",
    "    \n",
    " * Provide your commented, syntactically correct code and the results it produced."
   ]
  },
  {
   "cell_type": "markdown",
   "metadata": {
    "button": false,
    "collapsed": true,
    "deletable": true,
    "new_sheet": false,
    "run_control": {
     "read_only": false
    }
   },
   "source": [
    "## Tips and Hints"
   ]
  },
  {
   "cell_type": "markdown",
   "metadata": {
    "button": false,
    "deletable": true,
    "new_sheet": false,
    "run_control": {
     "read_only": false
    }
   },
   "source": [
    "Before you can use pandas you may need may to install it, if you haven't already done so.  You should be able to find it in Canopy and in Anaconda.\n",
    "\n",
    "You might find the documentation at (http://pandas.pydata.org) useful in addition to what has already been made available.\n",
    "\n",
    "Pickling is a basic and venerable Python \"serializing\" method. Pickling and unpickling are methods of converting Python objects in RAM to and from character streams so that they can persist.  Pickle files can be text files or binary files.  Here's a nice piece about pickling:\n",
    "\n",
    "(http://python.about.com/od/pythonstandardlibrary/a/pickle_intro.htm)\n",
    "\n",
    "You can find a notebook about the __shelve__ package on Canvas. It should be in the _Resources_ section of the course home page."
   ]
  }
 ],
 "metadata": {
  "anaconda-cloud": {},
  "kernelspec": {
   "display_name": "Python 3",
   "language": "python",
   "name": "python3"
  },
  "language_info": {
   "codemirror_mode": {
    "name": "ipython",
    "version": 3
   },
   "file_extension": ".py",
   "mimetype": "text/x-python",
   "name": "python",
   "nbconvert_exporter": "python",
   "pygments_lexer": "ipython3",
   "version": "3.5.0"
  }
 },
 "nbformat": 4,
 "nbformat_minor": 0
}
